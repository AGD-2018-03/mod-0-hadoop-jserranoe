{
 "cells": [
  {
   "cell_type": "markdown",
   "metadata": {},
   "source": [
    "Hadoop/MapReduce -- WordCount en Python (Hadoop Streaming)\n",
    "==="
   ]
  },
  {
   "cell_type": "markdown",
   "metadata": {},
   "source": [
    "## Definición del problema\n",
    "\n",
    "Se desea contar la frecuencia de ocurrencia de palabras en un conjunto de documentos. Debido a los requerimientos de diseño (gran volúmen de datos y tiempos rápidos de respuesta) se desea implementar una arquitectura Big Data. Se desea implementar la solución en **Python** y ejecutar Hadoop en **modo standalone**."
   ]
  },
  {
   "cell_type": "markdown",
   "metadata": {},
   "source": [
    "A continuación se generarán tres archivos de prueba para probar el sistema."
   ]
  },
  {
   "cell_type": "code",
   "execution_count": 9,
   "metadata": {},
   "outputs": [],
   "source": [
    "## Se crea el directorio de entrada\n",
    "!rm -rf input output\n",
    "!mkdir input"
   ]
  },
  {
   "cell_type": "code",
   "execution_count": 17,
   "metadata": {},
   "outputs": [
    {
     "name": "stdout",
     "output_type": "stream",
     "text": [
      "Overwriting input/text0.txt\n"
     ]
    }
   ],
   "source": [
    "%%writefile input/text0.txt\n",
    "Analytics is the discovery, interpretation, and communication of meaningful patterns \n",
    "in data. Especially valuable in areas rich with recorded information, analytics relies \n",
    "on the simultaneous application of statistics, computer programming and operations research \n",
    "to quantify performance.\n",
    "\n",
    "Organizations may apply analytics to business data to describe, predict, and improve business \n",
    "performance. Specifically, areas within analytics include predictive analytics, prescriptive \n",
    "analytics, enterprise decision management, descriptive analytics, cognitive analytics, Big \n",
    "Data Analytics, retail analytics, store assortment and stock-keeping unit optimization, \n",
    "marketing optimization and marketing mix modeling, web analytics, call analytics, speech \n",
    "analytics, sales force sizing and optimization, price and promotion modeling, predictive \n",
    "science, credit risk analysis, and fraud analytics. Since analytics can require extensive \n",
    "computation (see big data), the algorithms and software used for analytics harness the most \n",
    "current methods in computer science, statistics, and mathematics."
   ]
  },
  {
   "cell_type": "code",
   "execution_count": 18,
   "metadata": {},
   "outputs": [
    {
     "name": "stdout",
     "output_type": "stream",
     "text": [
      "Writing input/text1.txt\n"
     ]
    }
   ],
   "source": [
    "%%writefile input/text1.txt\n",
    "The field of data analysis. Analytics often involves studying past historical data to \n",
    "research potential trends, to analyze the effects of certain decisions or events, or to \n",
    "evaluate the performance of a given tool or scenario. The goal of analytics is to improve \n",
    "the business by gaining knowledge which can be used to make improvements or changes."
   ]
  },
  {
   "cell_type": "code",
   "execution_count": 19,
   "metadata": {},
   "outputs": [
    {
     "name": "stdout",
     "output_type": "stream",
     "text": [
      "Writing input/text2.txt\n"
     ]
    }
   ],
   "source": [
    "%%writefile input/text2.txt\n",
    "Data analytics (DA) is the process of examining data sets in order to draw conclusions \n",
    "about the information they contain, increasingly with the aid of specialized systems \n",
    "and software. Data analytics technologies and techniques are widely used in commercial \n",
    "industries to enable organizations to make more-informed business decisions and by \n",
    "scientists and researchers to verify or disprove scientific models, theories and \n",
    "hypotheses."
   ]
  },
  {
   "cell_type": "markdown",
   "metadata": {},
   "source": [
    "## Solución"
   ]
  },
  {
   "cell_type": "markdown",
   "metadata": {},
   "source": [
    "### Prueba de la implementación fuera de Hadoop\n",
    "\n",
    "Para realizar la implementación solicitada se usará Hadoop Streaming, el cual permite la implementación de aplicaciones MapReduce en cualquier lenguaje que soporte la creación de scripts. Para este caso se ejemplificará la implementación en Python. Hadoop streaming debe su nombre a que usa los streamings de Unix para la entrada y salida en texto (stdin, stdout y stderr respectivamente). El sistema lee y escribe líneas de texto una a una a los respectivos flujos de entrada y salida, tal como ocurre de forma estándar en las herramientas de la línea de comandos de Linux. \n",
    "\n",
    "La implementación requiere un programa para realizar el mapeo y otro para la reducción que se ejecutan independientemente; Hadoop se encarga de la coordinación entre ellos. El intercambio de información se hace a traves de texto, que es el lenguaje universal para intercambio de información. "
   ]
  },
  {
   "cell_type": "markdown",
   "metadata": {},
   "source": [
    "#### Paso 1\n",
    "\n",
    "Se implementa la función map en Python y se guarda en el archivo `mapper.py`."
   ]
  },
  {
   "cell_type": "code",
   "execution_count": 20,
   "metadata": {
    "scrolled": false
   },
   "outputs": [
    {
     "name": "stdout",
     "output_type": "stream",
     "text": [
      "Overwriting mapper.py\n"
     ]
    }
   ],
   "source": [
    "%%writefile mapper.py\n",
    "#! /usr/bin/env python\n",
    "\n",
    "##\n",
    "## Esta es la función que mapea la entrada a parejas (clave, valor)\n",
    "##\n",
    "import sys\n",
    "if __name__ == \"__main__\": \n",
    "    \n",
    "    ##\n",
    "    ## itera sobre cada linea de código recibida\n",
    "    ## a través del flujo de entrada\n",
    "    ##\n",
    "    for line in sys.stdin:\n",
    "        \n",
    "        ##\n",
    "        ## genera las tuplas palabra \\tabulador 1\n",
    "        ## ya que es un conteo de palabras\n",
    "        ##\n",
    "        for word in line.split(): \n",
    "                   \n",
    "            ##\n",
    "            ## escribe al flujo estándar de salida\n",
    "            ##\n",
    "            sys.stdout.write(\"{}\\t1\\n\".format(word))\n",
    "            "
   ]
  },
  {
   "cell_type": "markdown",
   "metadata": {},
   "source": [
    "#### Paso 2"
   ]
  },
  {
   "cell_type": "code",
   "execution_count": 21,
   "metadata": {},
   "outputs": [],
   "source": [
    "## El programa anterior se hace ejecutable\n",
    "!chmod +x mapper.py "
   ]
  },
  {
   "cell_type": "code",
   "execution_count": 22,
   "metadata": {
    "scrolled": false
   },
   "outputs": [
    {
     "name": "stdout",
     "output_type": "stream",
     "text": [
      "Analytics\t1\n",
      "is\t1\n",
      "the\t1\n",
      "discovery,\t1\n",
      "interpretation,\t1\n",
      "and\t1\n",
      "communication\t1\n",
      "of\t1\n",
      "meaningful\t1\n",
      "patterns\t1\n",
      "in\t1\n",
      "data.\t1\n",
      "Especially\t1\n",
      "valuable\t1\n",
      "in\t1\n",
      "areas\t1\n",
      "rich\t1\n",
      "with\t1\n",
      "recorded\t1\n",
      "information,\t1\n",
      "analytics\t1\n",
      "relies\t1\n",
      "on\t1\n",
      "the\t1\n",
      "simultaneous\t1\n",
      "application\t1\n",
      "of\t1\n",
      "statistics,\t1\n",
      "computer\t1\n",
      "programming\t1\n",
      "and\t1\n",
      "operations\t1\n",
      "research\t1\n",
      "to\t1\n",
      "quantify\t1\n",
      "performance.\t1\n",
      "Organizations\t1\n",
      "may\t1\n",
      "apply\t1\n",
      "analytics\t1\n",
      "to\t1\n",
      "business\t1\n",
      "data\t1\n",
      "to\t1\n",
      "describe,\t1\n",
      "predict,\t1\n",
      "and\t1\n",
      "improve\t1\n",
      "business\t1\n",
      "performance.\t1\n",
      "Specifically,\t1\n",
      "areas\t1\n",
      "within\t1\n",
      "analytics\t1\n",
      "include\t1\n",
      "predictive\t1\n",
      "analytics,\t1\n",
      "prescriptive\t1\n",
      "analytics,\t1\n",
      "enterprise\t1\n",
      "decision\t1\n",
      "management,\t1\n",
      "descriptive\t1\n",
      "analytics,\t1\n",
      "cognitive\t1\n",
      "analytics,\t1\n",
      "Big\t1\n",
      "Data\t1\n",
      "Analytics,\t1\n",
      "retail\t1\n",
      "analytics,\t1\n",
      "store\t1\n",
      "assortment\t1\n",
      "and\t1\n",
      "stock-keeping\t1\n",
      "unit\t1\n",
      "optimization,\t1\n",
      "marketing\t1\n",
      "optimization\t1\n",
      "and\t1\n",
      "marketing\t1\n",
      "mix\t1\n",
      "modeling,\t1\n",
      "web\t1\n",
      "analytics,\t1\n",
      "call\t1\n",
      "analytics,\t1\n",
      "speech\t1\n",
      "analytics,\t1\n",
      "sales\t1\n",
      "force\t1\n",
      "sizing\t1\n",
      "and\t1\n",
      "optimization,\t1\n",
      "price\t1\n",
      "and\t1\n",
      "promotion\t1\n",
      "modeling,\t1\n",
      "predictive\t1\n",
      "science,\t1\n",
      "credit\t1\n",
      "risk\t1\n",
      "analysis,\t1\n",
      "and\t1\n",
      "fraud\t1\n",
      "analytics.\t1\n",
      "Since\t1\n",
      "analytics\t1\n",
      "can\t1\n",
      "require\t1\n",
      "extensive\t1\n",
      "computation\t1\n",
      "(see\t1\n",
      "big\t1\n",
      "data),\t1\n",
      "the\t1\n",
      "algorithms\t1\n",
      "and\t1\n",
      "software\t1\n",
      "used\t1\n",
      "for\t1\n",
      "analytics\t1\n",
      "harness\t1\n",
      "the\t1\n",
      "most\t1\n",
      "current\t1\n",
      "methods\t1\n",
      "in\t1\n",
      "computer\t1\n",
      "science,\t1\n",
      "statistics,\t1\n",
      "and\t1\n",
      "mathematics.The\t1\n",
      "field\t1\n",
      "of\t1\n",
      "data\t1\n",
      "analysis.\t1\n",
      "Analytics\t1\n",
      "often\t1\n",
      "involves\t1\n",
      "studying\t1\n",
      "past\t1\n",
      "historical\t1\n",
      "data\t1\n",
      "to\t1\n",
      "research\t1\n",
      "potential\t1\n",
      "trends,\t1\n",
      "to\t1\n",
      "analyze\t1\n",
      "the\t1\n",
      "effects\t1\n",
      "of\t1\n",
      "certain\t1\n",
      "decisions\t1\n",
      "or\t1\n",
      "events,\t1\n",
      "or\t1\n",
      "to\t1\n",
      "evaluate\t1\n",
      "the\t1\n",
      "performance\t1\n",
      "of\t1\n",
      "a\t1\n",
      "given\t1\n",
      "tool\t1\n",
      "or\t1\n",
      "scenario.\t1\n",
      "The\t1\n",
      "goal\t1\n",
      "of\t1\n",
      "analytics\t1\n",
      "is\t1\n",
      "to\t1\n",
      "improve\t1\n",
      "the\t1\n",
      "business\t1\n",
      "by\t1\n",
      "gaining\t1\n",
      "knowledge\t1\n",
      "which\t1\n",
      "can\t1\n",
      "be\t1\n",
      "used\t1\n",
      "to\t1\n",
      "make\t1\n",
      "improvements\t1\n",
      "or\t1\n",
      "changes.Data\t1\n",
      "analytics\t1\n",
      "(DA)\t1\n",
      "is\t1\n",
      "the\t1\n",
      "process\t1\n",
      "of\t1\n",
      "examining\t1\n",
      "data\t1\n",
      "sets\t1\n",
      "in\t1\n",
      "order\t1\n",
      "to\t1\n",
      "draw\t1\n",
      "conclusions\t1\n",
      "about\t1\n",
      "the\t1\n",
      "information\t1\n",
      "they\t1\n",
      "contain,\t1\n",
      "increasingly\t1\n",
      "with\t1\n",
      "the\t1\n",
      "aid\t1\n",
      "of\t1\n",
      "specialized\t1\n",
      "systems\t1\n",
      "and\t1\n",
      "software.\t1\n",
      "Data\t1\n",
      "analytics\t1\n",
      "technologies\t1\n",
      "and\t1\n",
      "techniques\t1\n",
      "are\t1\n",
      "widely\t1\n",
      "used\t1\n",
      "in\t1\n",
      "commercial\t1\n",
      "industries\t1\n",
      "to\t1\n",
      "enable\t1\n",
      "organizations\t1\n",
      "to\t1\n",
      "make\t1\n",
      "more-informed\t1\n",
      "business\t1\n",
      "decisions\t1\n",
      "and\t1\n",
      "by\t1\n",
      "scientists\t1\n",
      "and\t1\n",
      "researchers\t1\n",
      "to\t1\n",
      "verify\t1\n",
      "or\t1\n",
      "disprove\t1\n",
      "scientific\t1\n",
      "models,\t1\n",
      "theories\t1\n",
      "and\t1\n",
      "hypotheses.\t1\n"
     ]
    }
   ],
   "source": [
    "## la salida de la función anterior es:\n",
    "!cat ./input/text*.txt | ./mapper.py"
   ]
  },
  {
   "cell_type": "markdown",
   "metadata": {},
   "source": [
    "### Paso 3\n",
    "\n",
    "Se implementa la función `reduce` y se salva en el archivo `reducer.py`."
   ]
  },
  {
   "cell_type": "code",
   "execution_count": 23,
   "metadata": {},
   "outputs": [
    {
     "name": "stdout",
     "output_type": "stream",
     "text": [
      "Overwriting reducer.py\n"
     ]
    }
   ],
   "source": [
    "%%writefile reducer.py\n",
    "#!/usr/bin/env python\n",
    "\n",
    "import sys\n",
    "\n",
    "##\n",
    "## Esta función reduce los elementos que \n",
    "## tienen la misma clave\n",
    "##\n",
    "\n",
    "if __name__ == '__main__': \n",
    "  \n",
    "    curkey = None\n",
    "    total = 0\n",
    "    \n",
    "    ##\n",
    "    ## cada linea de texto recibida es una \n",
    "    ## entrada clave \\tabulador valor\n",
    "    ##\n",
    "    for line in sys.stdin:\n",
    "        \n",
    "        key, val = line.split(\"\\t\") \n",
    "        val = int(val)\n",
    "        \n",
    "        if key == curkey: \n",
    "            ##\n",
    "            ## No se ha cambiado de clave. Aca se \n",
    "            ## acumulan los valores para la misma clave.\n",
    "            ##\n",
    "            total += val  \n",
    "        else:\n",
    "            ##\n",
    "            ## Se cambio de clave. Se reinicia el\n",
    "            ## acumulador.\n",
    "            ##\n",
    "            if curkey is not None:\n",
    "                ##\n",
    "                ## una vez se han reducido todos los elementos\n",
    "                ## con la misma clave se imprime el resultado en\n",
    "                ## el flujo de salida\n",
    "                ##\n",
    "                sys.stdout.write(\"{}\\t{}\\n\".format(curkey, total)) \n",
    "            \n",
    "            curkey = key\n",
    "            total = val"
   ]
  },
  {
   "cell_type": "markdown",
   "metadata": {},
   "source": [
    "#### Paso 4"
   ]
  },
  {
   "cell_type": "code",
   "execution_count": 24,
   "metadata": {},
   "outputs": [],
   "source": [
    "## El archivo se hace ejecutable\n",
    "!chmod +x reducer.py"
   ]
  },
  {
   "cell_type": "markdown",
   "metadata": {},
   "source": [
    "#### Paso 5\n",
    "\n",
    "Se realiza la prueba de la implementación en el directorio actual antes de realizar la ejecución en el modo pseudo-distribuido"
   ]
  },
  {
   "cell_type": "code",
   "execution_count": 26,
   "metadata": {},
   "outputs": [
    {
     "name": "stdout",
     "output_type": "stream",
     "text": [
      "a\t1\r\n",
      "about\t1\r\n",
      "aid\t1\r\n",
      "algorithms\t1\r\n",
      "analysis,\t1\r\n",
      "analysis.\t1\r\n",
      "analytics,\t8\r\n",
      "analytics.\t1\r\n",
      "analytics\t8\r\n",
      "Analytics,\t1\r\n",
      "Analytics\t2\r\n",
      "analyze\t1\r\n",
      "and\t15\r\n",
      "application\t1\r\n",
      "apply\t1\r\n",
      "are\t1\r\n",
      "areas\t2\r\n",
      "assortment\t1\r\n",
      "be\t1\r\n",
      "big\t1\r\n",
      "Big\t1\r\n",
      "business\t4\r\n",
      "by\t2\r\n",
      "call\t1\r\n",
      "can\t2\r\n",
      "certain\t1\r\n",
      "changes.Data\t1\r\n",
      "cognitive\t1\r\n",
      "commercial\t1\r\n",
      "communication\t1\r\n",
      "computation\t1\r\n",
      "computer\t2\r\n",
      "conclusions\t1\r\n",
      "contain,\t1\r\n",
      "credit\t1\r\n",
      "current\t1\r\n",
      "(DA)\t1\r\n",
      "data.\t1\r\n",
      "data),\t1\r\n",
      "data\t4\r\n",
      "Data\t2\r\n",
      "decision\t1\r\n",
      "decisions\t2\r\n",
      "describe,\t1\r\n",
      "descriptive\t1\r\n",
      "discovery,\t1\r\n",
      "disprove\t1\r\n",
      "draw\t1\r\n",
      "effects\t1\r\n",
      "enable\t1\r\n",
      "enterprise\t1\r\n",
      "Especially\t1\r\n",
      "evaluate\t1\r\n",
      "events,\t1\r\n",
      "examining\t1\r\n",
      "extensive\t1\r\n",
      "field\t1\r\n",
      "for\t1\r\n",
      "force\t1\r\n",
      "fraud\t1\r\n",
      "gaining\t1\r\n",
      "given\t1\r\n",
      "goal\t1\r\n",
      "harness\t1\r\n",
      "historical\t1\r\n",
      "hypotheses.\t1\r\n",
      "improve\t2\r\n",
      "improvements\t1\r\n",
      "in\t5\r\n",
      "include\t1\r\n",
      "increasingly\t1\r\n",
      "industries\t1\r\n",
      "information,\t1\r\n",
      "information\t1\r\n",
      "interpretation,\t1\r\n",
      "involves\t1\r\n",
      "is\t3\r\n",
      "knowledge\t1\r\n",
      "make\t2\r\n",
      "management,\t1\r\n",
      "marketing\t2\r\n",
      "mathematics.The\t1\r\n",
      "may\t1\r\n",
      "meaningful\t1\r\n",
      "methods\t1\r\n",
      "mix\t1\r\n",
      "modeling,\t2\r\n",
      "models,\t1\r\n",
      "more-informed\t1\r\n",
      "most\t1\r\n",
      "of\t8\r\n",
      "often\t1\r\n",
      "on\t1\r\n",
      "operations\t1\r\n",
      "optimization,\t2\r\n",
      "optimization\t1\r\n",
      "or\t5\r\n",
      "order\t1\r\n",
      "organizations\t1\r\n",
      "Organizations\t1\r\n",
      "past\t1\r\n",
      "patterns\t1\r\n",
      "performance.\t2\r\n",
      "performance\t1\r\n",
      "potential\t1\r\n",
      "predict,\t1\r\n",
      "predictive\t2\r\n",
      "prescriptive\t1\r\n",
      "price\t1\r\n",
      "process\t1\r\n",
      "programming\t1\r\n",
      "promotion\t1\r\n",
      "quantify\t1\r\n",
      "recorded\t1\r\n",
      "relies\t1\r\n",
      "require\t1\r\n",
      "research\t2\r\n",
      "researchers\t1\r\n",
      "retail\t1\r\n",
      "rich\t1\r\n",
      "risk\t1\r\n",
      "sales\t1\r\n",
      "scenario.\t1\r\n",
      "science,\t2\r\n",
      "scientific\t1\r\n",
      "scientists\t1\r\n",
      "(see\t1\r\n",
      "sets\t1\r\n",
      "simultaneous\t1\r\n",
      "Since\t1\r\n",
      "sizing\t1\r\n",
      "software.\t1\r\n",
      "software\t1\r\n",
      "specialized\t1\r\n",
      "Specifically,\t1\r\n",
      "speech\t1\r\n",
      "statistics,\t2\r\n",
      "stock-keeping\t1\r\n",
      "store\t1\r\n",
      "studying\t1\r\n",
      "systems\t1\r\n",
      "techniques\t1\r\n",
      "technologies\t1\r\n",
      "the\t10\r\n",
      "The\t1\r\n",
      "theories\t1\r\n",
      "they\t1\r\n",
      "to\t12\r\n",
      "tool\t1\r\n",
      "trends,\t1\r\n",
      "unit\t1\r\n",
      "used\t3\r\n",
      "valuable\t1\r\n",
      "verify\t1\r\n",
      "web\t1\r\n",
      "which\t1\r\n",
      "widely\t1\r\n",
      "with\t2\r\n"
     ]
    }
   ],
   "source": [
    "##\n",
    "## La función sort hace que todos los elementos con \n",
    "## la misma clave queden en lineas consecutivas.\n",
    "## Hace el papel del módulo Shuffle & Sort\n",
    "##\n",
    "!cat ./input/text*.txt | ./mapper.py | sort | ./reducer.py "
   ]
  },
  {
   "cell_type": "markdown",
   "metadata": {},
   "source": [
    "### Ejecución en Hadoop\n",
    "\n",
    "Una vez se tienen las versiones anteriores funcionando, se puede proceder a ejecutar la tarea directamente en Hadoop. "
   ]
  },
  {
   "cell_type": "code",
   "execution_count": 11,
   "metadata": {},
   "outputs": [],
   "source": [
    "## Se elimina el directorio de salida si existe\n",
    "!rm -rf output"
   ]
  },
  {
   "cell_type": "markdown",
   "metadata": {},
   "source": [
    "#### Paso 1 (solo en modo pseudo-distribuido\n",
    "\n",
    "Se copian los archivos de entrada al HDFS. Como se realizará la ejecución en modo standalone no es necesario, ya que Hadoop corre en el sistema local de archivos.\n"
   ]
  },
  {
   "cell_type": "markdown",
   "metadata": {},
   "source": [
    "Crea el directorio para los archivos de entrada\n",
    "\n",
    "\n",
    "    !$HADOOP_HOME/bin/hadoop fs -mkdir input"
   ]
  },
  {
   "cell_type": "markdown",
   "metadata": {},
   "source": [
    "Copia el contenido de la carpeta input a la carpeta input en el HDFS\n",
    "\n",
    "    !$HADOOP_HOME/bin/hadoop fs -put  input/* input"
   ]
  },
  {
   "cell_type": "markdown",
   "metadata": {},
   "source": [
    "Verifica el contenido del directorio\n",
    "\n",
    "    !$HADOOP_HOME/bin/hadoop fs -ls input/*"
   ]
  },
  {
   "cell_type": "markdown",
   "metadata": {},
   "source": [
    "#### Paso 2\n",
    "\n",
    "Se ejecuta Hadoop Streaming en modo pseudo-distribuido. "
   ]
  },
  {
   "cell_type": "code",
   "execution_count": 12,
   "metadata": {
    "scrolled": false
   },
   "outputs": [],
   "source": [
    "##\n",
    "## Se ejecuta en Hadoop.\n",
    "##   -input: archivo de entrada\n",
    "##   -output: directorio de salida\n",
    "##   -maper: programa que ejecuta el map\n",
    "##   -reducer: programa que ejecuta la reducción\n",
    "##\n",
    "!$HADOOP_HOME/bin/hadoop jar $HADOOP_HOME/share/hadoop/tools/lib/hadoop-streaming-*.jar -input input -output output  -mapper mapper.py -reducer reducer.py"
   ]
  },
  {
   "cell_type": "code",
   "execution_count": 13,
   "metadata": {
    "scrolled": true
   },
   "outputs": [
    {
     "name": "stdout",
     "output_type": "stream",
     "text": [
      "Found 2 items\n",
      "-rw-r--r--   1 jdvelasq admin          0 2018-10-15 20:49 output/_SUCCESS\n",
      "-rw-r--r--   1 jdvelasq admin       1640 2018-10-15 20:49 output/part-00000\n"
     ]
    }
   ],
   "source": [
    "## contenido del directorio con los \n",
    "## resultados de la corrida\n",
    "!$HADOOP_HOME/bin/hadoop fs -ls output"
   ]
  },
  {
   "cell_type": "code",
   "execution_count": 14,
   "metadata": {},
   "outputs": [
    {
     "name": "stdout",
     "output_type": "stream",
     "text": [
      "(DA)\t1\n",
      "(see\t1\n",
      "Analytics\t2\n",
      "Analytics,\t1\n",
      "Big\t1\n",
      "Data\t3\n",
      "Especially\t1\n",
      "Organizations\t1\n",
      "Since\t1\n",
      "Specifically,\t1\n"
     ]
    }
   ],
   "source": [
    "## se visualiza el archivo con los\n",
    "## resultados de la corrida\n",
    "!$HADOOP_HOME/bin/hadoop fs -cat output/part-00000 | head"
   ]
  },
  {
   "cell_type": "markdown",
   "metadata": {},
   "source": [
    "### Limpieza"
   ]
  },
  {
   "cell_type": "code",
   "execution_count": 15,
   "metadata": {},
   "outputs": [],
   "source": [
    "!rm reducer.py mapper.py\n",
    "!rm -rf input output"
   ]
  },
  {
   "cell_type": "markdown",
   "metadata": {},
   "source": [
    "En modo pseudo-distribuido se ejecutarían adicionalmente\n",
    "\n",
    "    $HADOOP_HOME/bin/hadoop fs -rm input/* output/*\n",
    "    \n",
    "    $HADOOP_HOME/bin/hadoop fs -rmdir input output"
   ]
  },
  {
   "cell_type": "markdown",
   "metadata": {},
   "source": [
    "# Notas.\n",
    "\n",
    "**Combiners.--** Los combiners son *reducers* que se ejecutan sobre los resultdos que produce cada mapper antes de pasar al modulo de suffle-&-sort, con el fin de reducir la carga computacional. Suelen ser identicos a los *reducers*. Una llamada típica sería:\n",
    "\n",
    "\n",
    "     $HADOOP_HOME/bin/hadoop jar $HADOOP_HOME/share/hadoop/tools/lib/hadoop-streaming-*.jar \\\n",
    "        -input input \\\n",
    "        -output output  \\\n",
    "        -mapper mapper.py \\\n",
    "        -reducer reducer.py \\\n",
    "        -combiner combiner.py\n",
    "\n",
    "\n",
    "**Partitioners.--** Son rutinas que controlan como se enviar las parejas (clave, valor) a cada reducers, tal que elementos con la misma clave son enviados al mismo reducer. \n",
    "\n",
    "**Job Chain.--** Se refiere al encadenamiento de varias tareas cuando el cómputo que se desea realizar es muy complejo para que pueda realizarse en un MapReduce."
   ]
  },
  {
   "cell_type": "markdown",
   "metadata": {},
   "source": [
    "---"
   ]
  }
 ],
 "metadata": {
  "kernelspec": {
   "display_name": "Python 3",
   "language": "python",
   "name": "python3"
  },
  "language_info": {
   "codemirror_mode": {
    "name": "ipython",
    "version": 3
   },
   "file_extension": ".py",
   "mimetype": "text/x-python",
   "name": "python",
   "nbconvert_exporter": "python",
   "pygments_lexer": "ipython3",
   "version": "3.6.5"
  }
 },
 "nbformat": 4,
 "nbformat_minor": 2
}
